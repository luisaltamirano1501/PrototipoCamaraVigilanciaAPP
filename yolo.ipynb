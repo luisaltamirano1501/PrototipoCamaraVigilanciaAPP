{
 "cells": [
  {
   "cell_type": "code",
   "execution_count": 1,
   "id": "768600f9-117e-4b8d-9139-a28f760dea31",
   "metadata": {},
   "outputs": [],
   "source": [
    "from ultralytics import YOLO\n",
    "import ultralytics\n",
    "\n",
    "\n"
   ]
  },
  {
   "cell_type": "code",
   "execution_count": 2,
   "id": "f558da77-01c6-42ab-9637-5859a66ca308",
   "metadata": {},
   "outputs": [
    {
     "name": "stderr",
     "output_type": "stream",
     "text": [
      "\n",
      "0: 352x640 12 persons, 126.8ms\n",
      "Speed: 7.0ms preprocess, 126.8ms inference, 16.0ms postprocess per image at shape (1, 3, 352, 640)\n"
     ]
    }
   ],
   "source": [
    "from ultralytics import YOLO\n",
    "from PIL import Image\n",
    "import cv2\n",
    "\n",
    "# Load a model\n",
    "model = YOLO('yolov8n.pt')  # load an official model\n",
    "\n",
    "img = cv2.imread(\"conce.jpg\")\n",
    "results = model(img)\n",
    "\n",
    "for result in results:\n",
    "    classes = result.boxes.cls #clase(personas,autos,animales,etc..)\n",
    "    boxes = result.boxes.xyxy  #boxer(coordenadas de los contornos)\n",
    "\n",
    "n = 0   \n",
    "for box in boxes:\n",
    "    if classes[n] == 0: #se filtran solo personas\n",
    "        cv2.rectangle(img, (int(box[0]), int(box[1])), (int(box[2]),int(box[3])), (0, 255, 0), 1)\n",
    "    n = n+1\n",
    "    \n",
    "# Muestra la imagen en una ventana\n",
    "cv2.imshow('Ventana de imagen', img)\n",
    "\n",
    "# Espera hasta que se presione cualquier tecla\n",
    "cv2.waitKey(0)\n",
    "\n",
    "# Cierra todas las ventanas abiertas\n",
    "cv2.destroyAllWindows()\n"
   ]
  },
  {
   "cell_type": "code",
   "execution_count": 8,
   "id": "8a886734-e798-4b23-b947-61edd11bd36f",
   "metadata": {},
   "outputs": [],
   "source": [
    "from ultralytics import YOLO\n",
    "from PIL import Image\n",
    "import cv2\n",
    "import time\n",
    "import datetime\n",
    "import sys\n",
    "\n",
    "# Redirigir la salida estándar y de error a la nulidad\n",
    "sys.stdout = open('nul', 'w')\n",
    "sys.stderr = open('nul', 'w')\n",
    "\n",
    "\n",
    "# Load a model\n",
    "model = YOLO('yolov8n.pt')  # load an official model\n",
    "\n",
    "#función dectector de personas\n",
    "def detect_objects(frame):\n",
    "    cantidadPersonas = 0\n",
    "    results = model(frame)\n",
    "    \n",
    "    for result in results:\n",
    "        classes = result.boxes.cls #clase(personas,autos,animales,etc..)\n",
    "        boxes = result.boxes.xyxy  #boxer(coordenadas de los contornos)\n",
    "\n",
    "    n = 0   \n",
    "    for box in boxes:\n",
    "        if classes[n] == 0: #se filtran solo personas\n",
    "            cv2.rectangle(frame, (int(box[0]), int(box[1])), (int(box[2]),int(box[3])), (0, 255, 0), 1)\n",
    "            cantidadPersonas = cantidadPersonas + 1\n",
    "        n = n+1\n",
    "\n",
    "    #cantidadPersonas = len(results)\n",
    "    fecha = datetime.date.today()\n",
    "    hora = datetime.datetime.now().strftime(\"%H:%M:%S\")\n",
    "    \n",
    "    return frame,cantidadPersonas,fecha,hora\n",
    "\n",
    "\n",
    "def generate_video():\n",
    "    # Iniciar la cámara\n",
    "    cap = cv2.VideoCapture(0)\n",
    "\n",
    "    tiempo_previo = time.time()\n",
    "    while True:\n",
    "        # Leer un frame de la cámara\n",
    "        ret, frame = cap.read()\n",
    "\n",
    "        # Detectar los rostros en el frame\n",
    "        frame,cantidadPersonas,fecha,hora = detect_objects(frame)\n",
    "\n",
    "        # Mostrar el fotograma en una ventana\n",
    "        cv2.imshow('Cámara', frame)\n",
    "\n",
    "        # Salir del bucle si se presiona la tecla 'q'\n",
    "        if cv2.waitKey(1) & 0xFF == ord('q'):\n",
    "            break\n",
    "            \n",
    "    # Liberar los recursos y cerrar las ventanas\n",
    "    cap.release()\n",
    "    cv2.destroyAllWindows()\n",
    "    \n",
    "generate_video()"
   ]
  },
  {
   "cell_type": "code",
   "execution_count": null,
   "id": "770bd14c-766e-4d34-865e-8f5c79a1a283",
   "metadata": {},
   "outputs": [],
   "source": []
  }
 ],
 "metadata": {
  "kernelspec": {
   "display_name": "Python 3 (ipykernel)",
   "language": "python",
   "name": "python3"
  },
  "language_info": {
   "codemirror_mode": {
    "name": "ipython",
    "version": 3
   },
   "file_extension": ".py",
   "mimetype": "text/x-python",
   "name": "python",
   "nbconvert_exporter": "python",
   "pygments_lexer": "ipython3",
   "version": "3.10.9"
  }
 },
 "nbformat": 4,
 "nbformat_minor": 5
}
